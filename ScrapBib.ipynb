{
 "cells": [
  {
   "cell_type": "markdown",
   "id": "e3cf8c68",
   "metadata": {},
   "source": [
    "# Scraping & Crawling an Alternative Tool #\n",
    "\n",
    "Gain access to API is hard, and it can be slow. So, people make alternative ways as like as always. Scraping and crawling tools follow one another on the world wide web. With them, you can capture data at the accessibility level of web pages. However, these tools create to help developers test products.\n",
    "Besides, Scraping has some weak points, i.e.:\n",
    "1. no stability\n",
    "2. imperfect data\n",
    "3. hard coding\n",
    "\n",
    "Here we go to scrap the bibitem result at https://scholar.google.com and convert it to a bibliography file. It keeps the bibitem tag and creates a bib file."
   ]
  },
  {
   "cell_type": "code",
   "execution_count": 1,
   "id": "7a0bf319-1758-48d7-b956-cb623ad3d7ec",
   "metadata": {},
   "outputs": [],
   "source": [
    "import re\n",
    "import time\n",
    "from selenium import webdriver ##\n",
    "from selenium.webdriver.common.by import By ##\n",
    "from selenium.common.exceptions import NoSuchElementException ##"
   ]
  },
  {
   "cell_type": "code",
   "execution_count": 30,
   "id": "45ef4156",
   "metadata": {},
   "outputs": [
    {
     "name": "stdout",
     "output_type": "stream",
     "text": [
      "There are 15 Bibitems\n"
     ]
    }
   ],
   "source": [
    "askfrom = 'https://scholar.google.com'\n",
    "TARGET = 'Data/myrefs.tex'\n",
    "\n",
    "with open(TARGET, 'r') as tfile:\n",
    "    Sources = re.findall(r'\\\\bibitem{(.*?)}(.*)', tfile.read())\n",
    "    \n",
    "print('There are ' + str(len(Sources)) + ' Bibitems')"
   ]
  },
  {
   "cell_type": "markdown",
   "id": "b157e8ee",
   "metadata": {},
   "source": [
    "### Webdriver ###\n",
    "As below, you need to locate chromedriver synced with your chrome app. It is the Selenium which control the webdriver. Also, you can use any other browser you prefer. "
   ]
  },
  {
   "cell_type": "code",
   "execution_count": 31,
   "id": "2aa33994",
   "metadata": {},
   "outputs": [
    {
     "name": "stderr",
     "output_type": "stream",
     "text": [
      "/var/folders/g9/s8h7hkc10d93lq73rpfchq300000gn/T/ipykernel_27973/2948971763.py:1: DeprecationWarning: executable_path has been deprecated, please pass in a Service object\n",
      "  browser = webdriver.Chrome(executable_path='/usr/local/bin/chromedriver')\n"
     ]
    },
    {
     "name": "stdout",
     "output_type": "stream",
     "text": [
      "Subrahmanian_DARPAbotChallengesaphs\r"
     ]
    }
   ],
   "source": [
    "browser = webdriver.Chrome(executable_path='/usr/local/bin/chromedriver')\n",
    "\n",
    "browser.get(askfrom)\n",
    "\n",
    "for item in Sources:\n",
    "    if (True):\n",
    "        browser.get('https://scholar.google.com')\n",
    "        inputfield = browser.find_element(By.ID, 'gs_hdr_tsi')\n",
    "        inputfield.send_keys(item[1])\n",
    "        \n",
    "        print(item[0], end='\\r')\n",
    "        browser.find_element(By.ID, 'gs_hdr_tsb').click()\n",
    "        time.sleep(10)\n",
    "        \n",
    "        items = browser.find_elements(By.CLASS_NAME, 'gs_ri')\n",
    "\n",
    "        for it in items:\n",
    "            it.find_element(By.CLASS_NAME, 'gs_fl').find_element(By.CLASS_NAME, 'gs_nph').click()\n",
    "            time.sleep(3)\n",
    "\n",
    "            cites = browser.find_elements(By.CLASS_NAME, 'gs_citi')\n",
    "            for ct in cites:\n",
    "                if ct.text == 'BibTeX':\n",
    "                    lref = ct.get_attribute('href')\n",
    "                    break\n",
    "            break\n",
    "        \n",
    "        browser.get(lref)\n",
    "        \n",
    "        bibtex = browser.find_element(By.TAG_NAME, 'pre').text\n",
    "        \n",
    "    pls = re.search(r'\\w{(.*?),', bibtex)\n",
    "\n",
    "    with open('Data/citation.bib', 'a') as wfile:\n",
    "        wfile.write(bibtex[:pls.span()[0]+2]+item[0]+bibtex[pls.span()[1]-1:]+'\\n\\n')\n",
    "\n",
    "browser.close()"
   ]
  },
  {
   "cell_type": "code",
   "execution_count": null,
   "id": "83dbe72e",
   "metadata": {},
   "outputs": [],
   "source": []
  }
 ],
 "metadata": {
  "kernelspec": {
   "display_name": "Python 3 (ipykernel)",
   "language": "python",
   "name": "python3"
  },
  "language_info": {
   "codemirror_mode": {
    "name": "ipython",
    "version": 3
   },
   "file_extension": ".py",
   "mimetype": "text/x-python",
   "name": "python",
   "nbconvert_exporter": "python",
   "pygments_lexer": "ipython3",
   "version": "3.8.9"
  }
 },
 "nbformat": 4,
 "nbformat_minor": 5
}
