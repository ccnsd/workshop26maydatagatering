{
 "cells": [
  {
   "cell_type": "markdown",
   "id": "b0dc425e-896b-484c-afe7-dadf08443311",
   "metadata": {
    "tags": []
   },
   "source": [
    "# Urget Path to Data Gathering #\n",
    "#### Parham Moradi ####\n",
    "_26 May 2022_\n",
    "\n",
    "As curiosity about the digital world, thinking about where data goes and what occurs to it. Many people around the globe connect to the internet and spend most of their time there. They generate massive data every day. Likewise, governments and companies use it to figure out the better way to achieve their goals.\n",
    "\n",
    "However, there is an unclear border between **Big Data** and small data. But, we have a couple of examples to know them better. The companies like GOOGLE and YAHOO, and even TWITTER, which gather data in any medium, generate **Big Data**. They have the power to analyze, utilize, or find an application for it. \n",
    "\n",
    "Anyway, others can gather information or bite a small piece of the **Big Data**. It is like holding the hand under a waterfall. We would surf some of these ways and figure out the gathered data. \n"
   ]
  },
  {
   "cell_type": "markdown",
   "id": "b3ad2302-4dc5-4b61-9b76-32d5e68d4c3c",
   "metadata": {
    "tags": []
   },
   "source": [
    "## Twitter Application Programming Interface **API** ##\n",
    "\n",
    "**python-twitter** is a simple Python wrapper for Twitter **API** v2. It is what we use to connect to Twitter and capture data. Also, Twitter **API** v2 need four secret key to allow the connection _[other tools and libraries](https://developer.twitter.com/en/docs/twitter-api/tools-and-libraries/v2). You can prepare a proposal and apply at http://developer.twitter.com/."
   ]
  },
  {
   "cell_type": "code",
   "execution_count": 29,
   "id": "b1f3d4c5-9056-4c4b-8fd1-8f6a53b3b21c",
   "metadata": {},
   "outputs": [],
   "source": [
    "import os\n",
    "import json\n",
    "import twitter ##\n",
    "import importlib ##\n",
    "from twload import tload\n",
    "from datetime import datetime\n",
    "from IPython.display import Image\n",
    "from collections import namedtuple"
   ]
  },
  {
   "cell_type": "code",
   "execution_count": 30,
   "id": "fcfaaa46-94a5-42de-acfe-dc17634be98f",
   "metadata": {},
   "outputs": [],
   "source": [
    "import config09\n",
    "\n",
    "api = twitter.Api(consumer_key = getattr(config09, \"consumer_key\"),\n",
    "                            consumer_secret = getattr(config09, \"consumer_secret\"),\n",
    "                            access_token_key = getattr(config09, \"token\"),\n",
    "                            access_token_secret = getattr(config09, \"token_secret\"),\n",
    "                            cache=None,\n",
    "                            tweet_mode= 'extended')"
   ]
  },
  {
   "cell_type": "markdown",
   "id": "061e0667-1fc0-453c-adba-a4efa32352bc",
   "metadata": {
    "tags": []
   },
   "source": [
    "## Rate Limits API ##\n",
    "\n",
    "A rate limit is **the number of API calls an app or user can make within a given time period**. If this limit is exceeded or if total time limits are exceeded, the app or user may be throttled. **API** requests made by a throttled user or app will fail. All **API**s requests are subject to rate limits, and developers utilize them to manage pressure on servers and databases. You can find more information about Twitter Rate Limits [here](https://developer.twitter.com/en/docs/twitter-api/rate-limits)."
   ]
  },
  {
   "cell_type": "code",
   "execution_count": 44,
   "id": "12014362-2f2b-477a-a73e-2038b56733bf",
   "metadata": {},
   "outputs": [
    {
     "data": {
      "text/plain": [
       "EndpointRateLimit(limit=180, remaining=174, reset=1653515617)"
      ]
     },
     "execution_count": 44,
     "metadata": {},
     "output_type": "execute_result"
    }
   ],
   "source": [
    "api.InitializeRateLimit()\n",
    "# api.CheckRateLimit(\"/users/show\")\n",
    "# api.CheckRateLimit(\"/statuses/show/:id\")\n",
    "api.CheckRateLimit(\"/search/tweets\")\n",
    "\n",
    "# and more..."
   ]
  },
  {
   "cell_type": "markdown",
   "id": "a74cb7f9-5fd0-44b4-a9b6-e94a0fad6a49",
   "metadata": {},
   "source": [
    "## Twitter Search Query ##\n",
    "\n",
    "The developed Twitter Advanced Search Engine served massive data from 2006 until now. It is available at https://twitter.com/search-advanced; it obtains five categories: Words, Accounts, Filter, Engagement, and Date. The result of this query appears in the link above of the browser, and you can copy what it is after `/search?` and paste it into the search **API** query. [more info](https://developer.twitter.com/en/docs/twitter-api/v1/rules-and-filtering/search-operators)\n",
    "\n",
    "* f = live\n",
    "* q = %20%20lang = fa\n",
    "* until = 2020-04-01\n",
    "* since = 2020-03-31\n",
    "* tweet_mode = 'extended'"
   ]
  },
  {
   "cell_type": "code",
   "execution_count": 43,
   "id": "07cb0409-085b-4e9b-8ea7-0d5fed8aa100",
   "metadata": {},
   "outputs": [
    {
     "name": "stdout",
     "output_type": "stream",
     "text": [
      "2022-05-25 21:42:44.664426\n"
     ]
    }
   ],
   "source": [
    "print(datetime.utcnow())\n",
    "qry = 'f=live&q=%20%20lang%3Afa%20-filter%3Alinks%20-filter%3Areplies&src=typed_query'\n",
    "# qry = 'q=min_retweets%3A150%20lang%3Afa%20since%3A2022-05-23%20-filter%3Alinks%20-filter%3Areplies&src=typed_query'\n",
    "tweets = api.GetSearch(raw_query= qry)"
   ]
  },
  {
   "cell_type": "markdown",
   "id": "e42738f7-e84d-4443-b488-9b88acbec33e",
   "metadata": {},
   "source": [
    "## Tweet Object Keys ##\n",
    "\n",
    "[Data Dictionary](https://developer.twitter.com/en/docs/twitter-api/v1/data-dictionary/object-model/tweet)\n",
    "\n",
    "Dictionaries in tweet object:\n",
    "* retweeted_status\n",
    "* user\n",
    "* urls\n",
    "* media\n",
    "    * id\n",
    "    * type\n",
    "    * media_url\n",
    "        * sizes\n",
    "* user_mentions\n",
    "    * id\n",
    "    * name\n",
    "    * screen_name\n",
    "* hashtags\n",
    "    * text\n",
    "\n",
    "The main keys:\n",
    "* created_at\n",
    "* id\n",
    "* id_str\n",
    "* full_text (extended mode)\n",
    "* lang\n",
    "* source\n",
    "* retweet_count\n",
    "* favorite_count"
   ]
  },
  {
   "cell_type": "markdown",
   "id": "04ceac01",
   "metadata": {},
   "source": [
    "## User Object Keys ##\n",
    "\n",
    "[Data Dictionary](https://developer.twitter.com/en/docs/twitter-api/v1/data-dictionary/object-model/user)\n",
    "\n",
    "Dictionaries in tweet object:\n",
    "* status\n",
    "    * last tweet\n",
    "    \n",
    "The main keys:\n",
    "* created_at\n",
    "* id\n",
    "* id_str\n",
    "* name\n",
    "* screen_name\n",
    "* description\n",
    "* location\n",
    "* statuses_count\n",
    "* followers_count\n",
    "* friends_count\n",
    "* favourites_count\n",
    "* listed_count\n",
    "\n",
    "The secondary keys:\n",
    "* default_profile\n",
    "* geo_enabled\n",
    "* profile_banner_url\n",
    "* profile_image_url\n",
    "* profile_image_url_https"
   ]
  },
  {
   "cell_type": "code",
   "execution_count": 45,
   "id": "0d2e6f64-4d37-4796-8c60-6e13d0d00e2a",
   "metadata": {},
   "outputs": [],
   "source": [
    "def tweetDecoder(tweetDict):\n",
    "    return namedtuple('Status', tweetDict.keys())(*tweetDict.values())\n",
    "\n",
    "# print(tweets[1])\n",
    "# tweets[1].__dict__['retweeted_status']\n",
    "# tweets[1]._json['id']\n",
    "\n",
    "# for item in tweets:\n",
    "#     with open('Data/'+str(item.id)+'.json', 'w') as wfile:\n",
    "#         json.dump(item._json, wfile)\n",
    "\n",
    "# tweetsData = []\n",
    "# for file in os.listdir(\"Data/\"):\n",
    "#     if file.endswith(\".json\"):\n",
    "#         with open('Data/'+file, 'r') as rfile:\n",
    "#             tweetsData.append(json.load(rfile, object_hook=tweetDecoder))"
   ]
  },
  {
   "cell_type": "code",
   "execution_count": 26,
   "id": "ef1de840-9165-43fb-bddd-a411d41bed6d",
   "metadata": {},
   "outputs": [],
   "source": [
    "twt = tweets[1]\n",
    "# twt = tweetsData[5]\n",
    "\n",
    "tw, rtw = tload(twt)\n",
    "uid = twt.user.id"
   ]
  },
  {
   "cell_type": "markdown",
   "id": "7e897402-b96d-4664-a44d-23a80d6d87f9",
   "metadata": {
    "variables": {
     " rtw['create'] ": "",
     " rtw['favorite'] ": "",
     " rtw['fulltext'].replace('\\n', '<br>').replace('\\u200c', ' ') ": "",
     " rtw['id'] ": "",
     " rtw['source'] ": "",
     " tw['create'] ": "Wednesday 25 May 2022 21:15",
     " tw['favorite'] ": "0",
     " tw['fulltext'].replace('\\n', '<br>').replace('\\u200c', ' ') ": "یه چند دقیقه پیش... <br>یکی از بچها منو بیدار کرد که ریحان پاشو داره زلزله میاد بیاد بریم محوطه....<br>منم بلند شدم دوتایی رفتیم تا پایین...<br>.<br>.<br>.<br>فک کنم تو خواب افتاده بود =)))",
     " tw['id'] ": "1529571845590159364",
     " tw['retweet'] ": "0",
     " tw['source'] ": "<a href=\"http://twitter.com/download/android\" rel=\"nofollow\">Twitter for Android</a>"
    }
   },
   "source": [
    "### Tweet Status ###\n",
    "\n",
    "{{ tw['id'] }} &emsp; &emsp; &emsp; {{ tw['create'] }}\n",
    "_ _ _ _\n",
    "__Original__\n",
    "\n",
    "{{ tw['fulltext'].replace('\\n', '<br>').replace('\\u200c', ' ') }}\n",
    "\n",
    "<br>\n",
    "retweet: {{ tw['retweet'] }} / favorite: {{ tw['favorite'] }} &emsp; source: {{ tw['source'] }}\n",
    "\n",
    "_ _ _ _\n",
    "\n",
    "{{ rtw['id'] }} &emsp; &emsp; &emsp; {{ rtw['create'] }}\n",
    "\n",
    "__Retweet__\n",
    "\n",
    "{{ rtw['fulltext'].replace('\\n', '<br>').replace('\\u200c', ' ') }}\n",
    "\n",
    "<br>\n",
    "favorite: {{ rtw['favorite'] }} &emsp; source: {{ rtw['source'] }}"
   ]
  },
  {
   "cell_type": "code",
   "execution_count": 28,
   "id": "0c195934-f220-44d3-bc29-1ff48f013209",
   "metadata": {
    "scrolled": true
   },
   "outputs": [
    {
     "data": {
      "image/jpeg": "[encoded data removed]",
      "text/plain": [
       "<IPython.core.display.Image object>"
      ]
     },
     "execution_count": 28,
     "metadata": {},
     "output_type": "execute_result"
    }
   ],
   "source": [
    "user = api.GetUser(user_id = uid)\n",
    "# user = twt.user\n",
    "Image(user.profile_image_url_https)"
   ]
  },
  {
   "cell_type": "markdown",
   "id": "4b3dab8b",
   "metadata": {
    "variables": {
     " datetime.strptime(user.created_at, '%a %b %d %H:%M:%S +0000 %Y').strftime(\"%A %d %b %Y\") ": "Thursday 17 Mar 2022",
     " user.followers_count ": "1600",
     " user.friends_count ": "1958",
     " user.location ": "No Where",
     " user.screen_name ": "little_0me0"
    }
   },
   "source": [
    "### User Profile ###\n",
    "\n",
    "{{ user.screen_name }} &emsp; &emsp; &emsp; {{ datetime.strptime(user.created_at, '%a %b %d %H:%M:%S +0000 %Y').strftime(\"%A %d %b %Y\") }}\n",
    "_ _ _ _\n",
    "\n",
    "follower: {{ user.followers_count }} &emsp; friends: {{ user.friends_count }} / location {{ user.location }}"
   ]
  },
  {
   "cell_type": "code",
   "execution_count": null,
   "id": "3f880271",
   "metadata": {},
   "outputs": [],
   "source": []
  }
 ],
 "metadata": {
  "kernelspec": {
   "display_name": "Python 3 (ipykernel)",
   "language": "python",
   "name": "python3"
  },
  "language_info": {
   "codemirror_mode": {
    "name": "ipython",
    "version": 3
   },
   "file_extension": ".py",
   "mimetype": "text/x-python",
   "name": "python",
   "nbconvert_exporter": "python",
   "pygments_lexer": "ipython3",
   "version": "3.8.9"
  }
 },
 "nbformat": 4,
 "nbformat_minor": 5
}
